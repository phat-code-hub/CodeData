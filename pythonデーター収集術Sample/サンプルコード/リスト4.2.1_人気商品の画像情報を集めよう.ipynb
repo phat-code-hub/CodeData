{
 "cells": [
  {
   "cell_type": "code",
   "execution_count": 1,
   "metadata": {},
   "outputs": [],
   "source": [
    "import requests\n",
    "from bs4 import BeautifulSoup\n",
    "import datetime\n",
    "import csv\n",
    "import os\n",
    "import shutil\n",
    "from urllib.parse import urljoin\n",
    "from time import sleep"
   ]
  },
  {
   "cell_type": "markdown",
   "metadata": {},
   "source": [
    "### 一覧ページからのデータ取得"
   ]
  },
  {
   "cell_type": "code",
   "execution_count": 2,
   "metadata": {},
   "outputs": [
    {
     "name": "stdout",
     "output_type": "stream",
     "text": [
      "['', '', 'カジュアル1', 'ブランドA', '￥18,600', '', '']\n",
      "['', '', 'スーツ1', 'ブランドB', '￥42,000', '', '']\n",
      "['', '', 'スーツ2', 'ブランドC', '￥108,500', '', '']\n",
      "['', '', 'カジュアル2', 'ブランドD', '￥6,800', '', '']\n",
      "['', '', 'スーツ3', 'ブランドE', '￥68,300', '', '']\n",
      "['', '', 'カジュアル3', 'ブランドA', '￥6,400', '', '']\n",
      "['', '', 'カジュアル4', 'ブランドA', '￥8,700', '', '']\n",
      "['', '', 'カジュアル5', 'ブランドA', '￥30,200', '', '']\n",
      "['', '', 'スーツ4', 'ブランドA', '￥28,600', '', '']\n",
      "['', '', 'カジュアル6', 'ブランドA', '￥9,600', '', '']\n",
      "['', '', 'スーツ5', 'ブランドA', '￥38,100', '', '']\n",
      "['', '', 'スーツ6', 'ブランドA', '￥58,400', '', '']\n",
      "['', '', 'カジュアル7', 'ブランドA', '￥9,900', '', '']\n",
      "['', '', 'スーツ7', 'ブランドA', '￥118,400', '', '']\n",
      "['', '', 'スーツ8', 'ブランドA', '￥74,900', '', '']\n",
      "['', '', 'スーツ9', 'ブランドA', '￥89,800', '', '']\n",
      "['', '', 'スーツ10', 'ブランドA', '￥32,000', '', '']\n",
      "['', '', 'カジュアル8', 'ブランドA', '￥18,900', '', '']\n",
      "['', '', 'カジュアル9', 'ブランドA', '￥4,900', '', '']\n",
      "['', '', 'カジュアル10', 'ブランドA', '￥16,400', '', '']\n",
      "['', '', 'カジュアル11', 'ブランドA', '￥28,800', '', '']\n",
      "['', '', 'カジュアル12', 'ブランドA', '￥31,300', '', '']\n",
      "['', '', 'カジュアル13', 'ブランドA', '￥12,600', '', '']\n",
      "['', '', 'カジュアル14', 'ブランドA', '￥18,900', '', '']\n",
      "['', '', 'スーツ11', 'ブランドA', '￥103,900', '', '']\n",
      "['', '', 'スーツ12', 'ブランドA', '￥78,300', '', '']\n",
      "['', '', 'カジュアル15', 'ブランドA', '￥18,900', '', '']\n",
      "['', '', 'カジュアル16', 'ブランドA', '￥72,400', '', '']\n",
      "['', '', 'スーツ13', 'ブランドA', '￥110,000', '', '']\n",
      "['', '', 'カジュアル17', 'ブランドA', '￥4,500', '', '']\n"
     ]
    }
   ],
   "source": [
    "url = \"https://python-data-collection.herokuapp.com/mens-fashion\"\n",
    "item_list = []\n",
    "\n",
    "for i in range(9):\n",
    "# while True:\n",
    "    response = requests.get(url)\n",
    "    soup = BeautifulSoup(response.text, \"html.parser\")\n",
    "    \n",
    "    for elem in soup.find_all(\"div\", class_=\"col-md-2\"):\n",
    "        item_image_url = urljoin(url, elem.find(\"img\")[\"src\"])\n",
    "        print(elem.find(\"div\", class_=\"card-body\").text.split(\"\\n\"))\n",
    "        item_name = elem.find(\"div\", class_=\"card-body\").text.split(\"\\n\")[2]        \n",
    "        item_brand = elem.find(\"div\", class_=\"card-body\").text.split(\"\\n\")[3]\n",
    "        item_price = int(elem.find(\"div\", class_=\"card-body\").text.split(\"\\n\")[4].replace(\",\",\"\")[1:])\n",
    "        item_list.append([item_name, item_image_url, item_brand, item_price])\n",
    "                \n",
    "    if soup.select(\"a:contains('Next')\"):\n",
    "        url = urljoin(url, soup.select(\"a:contains('Next')\")[0][\"href\"])\n",
    "        sleep(1)\n",
    "    else:\n",
    "        break"
   ]
  },
  {
   "cell_type": "markdown",
   "metadata": {},
   "source": [
    "### 参考： 取得したデータの表示"
   ]
  },
  {
   "cell_type": "code",
   "execution_count": 3,
   "metadata": {},
   "outputs": [
    {
     "name": "stdout",
     "output_type": "stream",
     "text": [
      "['カジュアル1', 'https://python-data-collection.herokuapp.com/static/assets/img/fashion/img1.jpg', 'ブランドA', 18600]\n",
      "['スーツ1', 'https://python-data-collection.herokuapp.com/static/assets/img/fashion/img2.jpg', 'ブランドB', 42000]\n",
      "['スーツ2', 'https://python-data-collection.herokuapp.com/static/assets/img/fashion/img3.jpg', 'ブランドC', 108500]\n",
      "['カジュアル2', 'https://python-data-collection.herokuapp.com/static/assets/img/fashion/img4.jpg', 'ブランドD', 6800]\n",
      "['スーツ3', 'https://python-data-collection.herokuapp.com/static/assets/img/fashion/img5.jpg', 'ブランドE', 68300]\n",
      "['カジュアル3', 'https://python-data-collection.herokuapp.com/static/assets/img/fashion/img6.jpg', 'ブランドA', 6400]\n",
      "['カジュアル4', 'https://python-data-collection.herokuapp.com/static/assets/img/fashion/img7.jpg', 'ブランドA', 8700]\n",
      "['カジュアル5', 'https://python-data-collection.herokuapp.com/static/assets/img/fashion/img8.jpg', 'ブランドA', 30200]\n",
      "['スーツ4', 'https://python-data-collection.herokuapp.com/static/assets/img/fashion/img9.jpg', 'ブランドA', 28600]\n",
      "['カジュアル6', 'https://python-data-collection.herokuapp.com/static/assets/img/fashion/img10.jpg', 'ブランドA', 9600]\n",
      "['スーツ5', 'https://python-data-collection.herokuapp.com/static/assets/img/fashion/img11.jpg', 'ブランドA', 38100]\n",
      "['スーツ6', 'https://python-data-collection.herokuapp.com/static/assets/img/fashion/img12.jpg', 'ブランドA', 58400]\n",
      "['カジュアル7', 'https://python-data-collection.herokuapp.com/static/assets/img/fashion/img13.jpg', 'ブランドA', 9900]\n",
      "['スーツ7', 'https://python-data-collection.herokuapp.com/static/assets/img/fashion/img14.jpg', 'ブランドA', 118400]\n",
      "['スーツ8', 'https://python-data-collection.herokuapp.com/static/assets/img/fashion/img15.jpg', 'ブランドA', 74900]\n",
      "['スーツ9', 'https://python-data-collection.herokuapp.com/static/assets/img/fashion/img16.jpg', 'ブランドA', 89800]\n",
      "['スーツ10', 'https://python-data-collection.herokuapp.com/static/assets/img/fashion/img17.jpg', 'ブランドA', 32000]\n",
      "['カジュアル8', 'https://python-data-collection.herokuapp.com/static/assets/img/fashion/img18.jpg', 'ブランドA', 18900]\n",
      "['カジュアル9', 'https://python-data-collection.herokuapp.com/static/assets/img/fashion/img19.jpg', 'ブランドA', 4900]\n",
      "['カジュアル10', 'https://python-data-collection.herokuapp.com/static/assets/img/fashion/img20.jpg', 'ブランドA', 16400]\n",
      "['カジュアル11', 'https://python-data-collection.herokuapp.com/static/assets/img/fashion/img21.jpg', 'ブランドA', 28800]\n",
      "['カジュアル12', 'https://python-data-collection.herokuapp.com/static/assets/img/fashion/img22.jpg', 'ブランドA', 31300]\n",
      "['カジュアル13', 'https://python-data-collection.herokuapp.com/static/assets/img/fashion/img23.jpg', 'ブランドA', 12600]\n",
      "['カジュアル14', 'https://python-data-collection.herokuapp.com/static/assets/img/fashion/img24.jpg', 'ブランドA', 18900]\n",
      "['スーツ11', 'https://python-data-collection.herokuapp.com/static/assets/img/fashion/img25.jpg', 'ブランドA', 103900]\n",
      "['スーツ12', 'https://python-data-collection.herokuapp.com/static/assets/img/fashion/img26.jpg', 'ブランドA', 78300]\n",
      "['カジュアル15', 'https://python-data-collection.herokuapp.com/static/assets/img/fashion/img27.jpg', 'ブランドA', 18900]\n",
      "['カジュアル16', 'https://python-data-collection.herokuapp.com/static/assets/img/fashion/img28.jpg', 'ブランドA', 72400]\n",
      "['スーツ13', 'https://python-data-collection.herokuapp.com/static/assets/img/fashion/img29.jpg', 'ブランドA', 110000]\n",
      "['カジュアル17', 'https://python-data-collection.herokuapp.com/static/assets/img/fashion/img30.jpg', 'ブランドA', 4500]\n"
     ]
    }
   ],
   "source": [
    "for item in item_list:\n",
    "    print(item)"
   ]
  },
  {
   "cell_type": "markdown",
   "metadata": {},
   "source": [
    "### 一覧ページから取得したデータの保存"
   ]
  },
  {
   "cell_type": "code",
   "execution_count": 4,
   "metadata": {},
   "outputs": [],
   "source": [
    "csv_header = [\"商品名\",\"画像URL\",\"ブランド\",\"価格\"]\n",
    "csv_date = datetime.datetime.today().strftime(\"%Y%m%d%H\")\n",
    "csv_file_name = \"mens_fashion_\" + csv_date + \".csv\"\n",
    "with open(csv_file_name,\"w\", errors = \"ignore\") as file:\n",
    "    writer = csv.writer(file,lineterminator=\"\\n\")\n",
    "    writer.writerow(csv_header)\n",
    "    writer.writerows(item_list)"
   ]
  },
  {
   "cell_type": "markdown",
   "metadata": {},
   "source": [
    "### 画像データの取得・保存"
   ]
  },
  {
   "cell_type": "code",
   "execution_count": 5,
   "metadata": {},
   "outputs": [],
   "source": [
    "path = r\"C:\\test_folder\\mens_fashion\"\n",
    "for item in item_list:\n",
    "    file_name = item[0] + \".\" + item[1].split(\".\")[-1]\n",
    "    image_path = os.path.join(path, file_name)\n",
    "    response = requests.get(item[1], stream=True)   #画像のダウンロード\n",
    "    with open(image_path, \"wb\") as file:\n",
    "        shutil.copyfileobj(response.raw, file)"
   ]
  }
 ],
 "metadata": {
  "kernelspec": {
   "display_name": "Python 3",
   "language": "python",
   "name": "python3"
  },
  "language_info": {
   "codemirror_mode": {
    "name": "ipython",
    "version": 3
   },
   "file_extension": ".py",
   "mimetype": "text/x-python",
   "name": "python",
   "nbconvert_exporter": "python",
   "pygments_lexer": "ipython3",
   "version": "3.8.5"
  }
 },
 "nbformat": 4,
 "nbformat_minor": 4
}
