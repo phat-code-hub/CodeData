{
 "cells": [
  {
   "cell_type": "code",
   "execution_count": 1,
   "metadata": {},
   "outputs": [],
   "source": [
    "import csv\n",
    "import datetime"
   ]
  },
  {
   "cell_type": "code",
   "execution_count": 2,
   "metadata": {},
   "outputs": [],
   "source": [
    "csv_header = [\"ランキング\",\"商品名\",\"評価\",\"価格\"]\n",
    "ranking_data = [\n",
    "    [\"1\", \"商品1\",\"5\",\"1,200\"],\n",
    "    [\"2\", \"商品2\",\"5\",\"1,300\"],\n",
    "    [\"3\", \"商品3\",\"4.5\",\"2,200\"],\n",
    "    [\"4\", \"商品4\",\"4.5\",\"2,100\"],\n",
    "    [\"5\", \"商品5\",\"4\",\"3,200\"],    \n",
    "]"
   ]
  },
  {
   "cell_type": "code",
   "execution_count": 3,
   "metadata": {},
   "outputs": [],
   "source": [
    "csv_date = datetime.datetime.today().strftime(\"%Y%m%d%H\")\n",
    "csv_file_name = \"ranking_data_\" + csv_date + \".csv\"\n",
    "with open(csv_file_name,\"w\", errors = \"ignore\") as file:\n",
    "    writer = csv.writer(file,lineterminator=\"\\n\")\n",
    "    writer.writerow(csv_header)\n",
    "    writer.writerows(ranking_data)"
   ]
  }
 ],
 "metadata": {
  "kernelspec": {
   "display_name": "Python 3",
   "language": "python",
   "name": "python3"
  },
  "language_info": {
   "codemirror_mode": {
    "name": "ipython",
    "version": 3
   },
   "file_extension": ".py",
   "mimetype": "text/x-python",
   "name": "python",
   "nbconvert_exporter": "python",
   "pygments_lexer": "ipython3",
   "version": "3.8.5"
  }
 },
 "nbformat": 4,
 "nbformat_minor": 4
}
