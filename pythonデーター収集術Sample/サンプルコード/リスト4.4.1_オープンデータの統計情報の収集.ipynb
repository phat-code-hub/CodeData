{
 "cells": [
  {
   "cell_type": "code",
   "execution_count": 1,
   "metadata": {},
   "outputs": [],
   "source": [
    "import requests\n",
    "import pandas as pd\n",
    "import csv\n",
    "import datetime"
   ]
  },
  {
   "cell_type": "markdown",
   "metadata": {},
   "source": [
    "### アプリケーションIDの設定"
   ]
  },
  {
   "cell_type": "code",
   "execution_count": 2,
   "metadata": {},
   "outputs": [],
   "source": [
    "APP_ID = \"取得したアプリケーションIDを設定\""
   ]
  },
  {
   "cell_type": "markdown",
   "metadata": {},
   "source": [
    "### URL&パラメーターの設定"
   ]
  },
  {
   "cell_type": "code",
   "execution_count": 3,
   "metadata": {},
   "outputs": [],
   "source": [
    "url = \"http://api.e-stat.go.jp/rest/3.0/app/getSimpleStatsData\""
   ]
  },
  {
   "cell_type": "code",
   "execution_count": 4,
   "metadata": {},
   "outputs": [],
   "source": [
    "stats_data_id = \"0003343671\" # 家計調査 家計収支編 二人以上の世帯 品目分類（2020年改定）（総数：金額）\n",
    "code_category_01 = \"010120000\" # パン"
   ]
  },
  {
   "cell_type": "code",
   "execution_count": 5,
   "metadata": {},
   "outputs": [],
   "source": [
    "params = {\"appId\": APP_ID, \"statsDataId\": stats_data_id, \"cdCat01\": code_category_01, \"sectionHeaderFlg\": 2, \"explanationGetFlg\": \"N\", \"metaGetFlg\": \"N\", \"annotationGetFlg\": \"N\"}"
   ]
  },
  {
   "cell_type": "markdown",
   "metadata": {},
   "source": [
    "### 統計データの取得（CSV形式）"
   ]
  },
  {
   "cell_type": "code",
   "execution_count": 6,
   "metadata": {},
   "outputs": [],
   "source": [
    "response = requests.get(url, params=params, stream=True)"
   ]
  },
  {
   "cell_type": "markdown",
   "metadata": {},
   "source": [
    "### 参考： URLの表示"
   ]
  },
  {
   "cell_type": "code",
   "execution_count": 7,
   "metadata": {},
   "outputs": [
    {
     "name": "stdout",
     "output_type": "stream",
     "text": [
      "http://api.e-stat.go.jp/rest/3.0/app/getSimpleStatsData?appId=7508558dba3fb5a1b95f6e442768866b8d66ac8a&statsDataId=0003343671&cdCat01=010120000&sectionHeaderFlg=2&explanationGetFlg=N&metaGetFlg=N&annotationGetFlg=N\n"
     ]
    }
   ],
   "source": [
    "print(response.url)"
   ]
  },
  {
   "cell_type": "markdown",
   "metadata": {},
   "source": [
    "### 取得した統計データ（CSV形式）の保存"
   ]
  },
  {
   "cell_type": "code",
   "execution_count": 8,
   "metadata": {},
   "outputs": [],
   "source": [
    "csv_date = datetime.datetime.today().strftime(\"%Y%m%d%H\")\n",
    "csv_file_name = \"estat_bread_consumption_\" + csv_date + \".csv\"\n",
    "with open(csv_file_name, \"w\") as file:\n",
    "    file.write(response.text)"
   ]
  },
  {
   "cell_type": "markdown",
   "metadata": {},
   "source": [
    "### 取得した統計データ（CSV形式）の読み込み"
   ]
  },
  {
   "cell_type": "code",
   "execution_count": 9,
   "metadata": {},
   "outputs": [],
   "source": [
    "df = pd.read_csv(csv_file_name, encoding=\"cp932\")"
   ]
  },
  {
   "cell_type": "code",
   "execution_count": 10,
   "metadata": {},
   "outputs": [
    {
     "data": {
      "text/html": [
       "<div>\n",
       "<style scoped>\n",
       "    .dataframe tbody tr th:only-of-type {\n",
       "        vertical-align: middle;\n",
       "    }\n",
       "\n",
       "    .dataframe tbody tr th {\n",
       "        vertical-align: top;\n",
       "    }\n",
       "\n",
       "    .dataframe thead th {\n",
       "        text-align: right;\n",
       "    }\n",
       "</style>\n",
       "<table border=\"1\" class=\"dataframe\">\n",
       "  <thead>\n",
       "    <tr style=\"text-align: right;\">\n",
       "      <th></th>\n",
       "      <th>tab_code</th>\n",
       "      <th>表章項目</th>\n",
       "      <th>cat01_code</th>\n",
       "      <th>品目分類（2020年改定）</th>\n",
       "      <th>cat02_code</th>\n",
       "      <th>世帯区分</th>\n",
       "      <th>area_code</th>\n",
       "      <th>地域区分</th>\n",
       "      <th>time_code</th>\n",
       "      <th>時間軸（月次）</th>\n",
       "      <th>unit</th>\n",
       "      <th>value</th>\n",
       "    </tr>\n",
       "  </thead>\n",
       "  <tbody>\n",
       "    <tr>\n",
       "      <th>0</th>\n",
       "      <td>1</td>\n",
       "      <td>金額</td>\n",
       "      <td>10120000</td>\n",
       "      <td>1.1.2 パン</td>\n",
       "      <td>3</td>\n",
       "      <td>二人以上の世帯（2000年～）</td>\n",
       "      <td>0</td>\n",
       "      <td>全国</td>\n",
       "      <td>2000000101</td>\n",
       "      <td>2000年1月</td>\n",
       "      <td>円</td>\n",
       "      <td>2127</td>\n",
       "    </tr>\n",
       "    <tr>\n",
       "      <th>1</th>\n",
       "      <td>1</td>\n",
       "      <td>金額</td>\n",
       "      <td>10120000</td>\n",
       "      <td>1.1.2 パン</td>\n",
       "      <td>3</td>\n",
       "      <td>二人以上の世帯（2000年～）</td>\n",
       "      <td>0</td>\n",
       "      <td>全国</td>\n",
       "      <td>2000000202</td>\n",
       "      <td>2000年2月</td>\n",
       "      <td>円</td>\n",
       "      <td>2329</td>\n",
       "    </tr>\n",
       "    <tr>\n",
       "      <th>2</th>\n",
       "      <td>1</td>\n",
       "      <td>金額</td>\n",
       "      <td>10120000</td>\n",
       "      <td>1.1.2 パン</td>\n",
       "      <td>3</td>\n",
       "      <td>二人以上の世帯（2000年～）</td>\n",
       "      <td>0</td>\n",
       "      <td>全国</td>\n",
       "      <td>2000000303</td>\n",
       "      <td>2000年3月</td>\n",
       "      <td>円</td>\n",
       "      <td>2492</td>\n",
       "    </tr>\n",
       "    <tr>\n",
       "      <th>3</th>\n",
       "      <td>1</td>\n",
       "      <td>金額</td>\n",
       "      <td>10120000</td>\n",
       "      <td>1.1.2 パン</td>\n",
       "      <td>3</td>\n",
       "      <td>二人以上の世帯（2000年～）</td>\n",
       "      <td>0</td>\n",
       "      <td>全国</td>\n",
       "      <td>2000000404</td>\n",
       "      <td>2000年4月</td>\n",
       "      <td>円</td>\n",
       "      <td>2441</td>\n",
       "    </tr>\n",
       "    <tr>\n",
       "      <th>4</th>\n",
       "      <td>1</td>\n",
       "      <td>金額</td>\n",
       "      <td>10120000</td>\n",
       "      <td>1.1.2 パン</td>\n",
       "      <td>3</td>\n",
       "      <td>二人以上の世帯（2000年～）</td>\n",
       "      <td>0</td>\n",
       "      <td>全国</td>\n",
       "      <td>2000000505</td>\n",
       "      <td>2000年5月</td>\n",
       "      <td>円</td>\n",
       "      <td>2458</td>\n",
       "    </tr>\n",
       "    <tr>\n",
       "      <th>...</th>\n",
       "      <td>...</td>\n",
       "      <td>...</td>\n",
       "      <td>...</td>\n",
       "      <td>...</td>\n",
       "      <td>...</td>\n",
       "      <td>...</td>\n",
       "      <td>...</td>\n",
       "      <td>...</td>\n",
       "      <td>...</td>\n",
       "      <td>...</td>\n",
       "      <td>...</td>\n",
       "      <td>...</td>\n",
       "    </tr>\n",
       "    <tr>\n",
       "      <th>10133</th>\n",
       "      <td>1</td>\n",
       "      <td>金額</td>\n",
       "      <td>10120000</td>\n",
       "      <td>1.1.2 パン</td>\n",
       "      <td>2</td>\n",
       "      <td>二人以上の世帯のうち勤労者世帯（農林漁家世帯を除く）（1985年～2007年,2017年）</td>\n",
       "      <td>0</td>\n",
       "      <td>全国</td>\n",
       "      <td>2017000808</td>\n",
       "      <td>2017年8月</td>\n",
       "      <td>円</td>\n",
       "      <td>2549</td>\n",
       "    </tr>\n",
       "    <tr>\n",
       "      <th>10134</th>\n",
       "      <td>1</td>\n",
       "      <td>金額</td>\n",
       "      <td>10120000</td>\n",
       "      <td>1.1.2 パン</td>\n",
       "      <td>2</td>\n",
       "      <td>二人以上の世帯のうち勤労者世帯（農林漁家世帯を除く）（1985年～2007年,2017年）</td>\n",
       "      <td>0</td>\n",
       "      <td>全国</td>\n",
       "      <td>2017000909</td>\n",
       "      <td>2017年9月</td>\n",
       "      <td>円</td>\n",
       "      <td>2537</td>\n",
       "    </tr>\n",
       "    <tr>\n",
       "      <th>10135</th>\n",
       "      <td>1</td>\n",
       "      <td>金額</td>\n",
       "      <td>10120000</td>\n",
       "      <td>1.1.2 パン</td>\n",
       "      <td>2</td>\n",
       "      <td>二人以上の世帯のうち勤労者世帯（農林漁家世帯を除く）（1985年～2007年,2017年）</td>\n",
       "      <td>0</td>\n",
       "      <td>全国</td>\n",
       "      <td>2017001010</td>\n",
       "      <td>2017年10月</td>\n",
       "      <td>円</td>\n",
       "      <td>2668</td>\n",
       "    </tr>\n",
       "    <tr>\n",
       "      <th>10136</th>\n",
       "      <td>1</td>\n",
       "      <td>金額</td>\n",
       "      <td>10120000</td>\n",
       "      <td>1.1.2 パン</td>\n",
       "      <td>2</td>\n",
       "      <td>二人以上の世帯のうち勤労者世帯（農林漁家世帯を除く）（1985年～2007年,2017年）</td>\n",
       "      <td>0</td>\n",
       "      <td>全国</td>\n",
       "      <td>2017001111</td>\n",
       "      <td>2017年11月</td>\n",
       "      <td>円</td>\n",
       "      <td>2670</td>\n",
       "    </tr>\n",
       "    <tr>\n",
       "      <th>10137</th>\n",
       "      <td>1</td>\n",
       "      <td>金額</td>\n",
       "      <td>10120000</td>\n",
       "      <td>1.1.2 パン</td>\n",
       "      <td>2</td>\n",
       "      <td>二人以上の世帯のうち勤労者世帯（農林漁家世帯を除く）（1985年～2007年,2017年）</td>\n",
       "      <td>0</td>\n",
       "      <td>全国</td>\n",
       "      <td>2017001212</td>\n",
       "      <td>2017年12月</td>\n",
       "      <td>円</td>\n",
       "      <td>2807</td>\n",
       "    </tr>\n",
       "  </tbody>\n",
       "</table>\n",
       "<p>10138 rows × 12 columns</p>\n",
       "</div>"
      ],
      "text/plain": [
       "       tab_code 表章項目  cat01_code 品目分類（2020年改定）  cat02_code  \\\n",
       "0             1   金額    10120000      1.1.2 パン           3   \n",
       "1             1   金額    10120000      1.1.2 パン           3   \n",
       "2             1   金額    10120000      1.1.2 パン           3   \n",
       "3             1   金額    10120000      1.1.2 パン           3   \n",
       "4             1   金額    10120000      1.1.2 パン           3   \n",
       "...         ...  ...         ...           ...         ...   \n",
       "10133         1   金額    10120000      1.1.2 パン           2   \n",
       "10134         1   金額    10120000      1.1.2 パン           2   \n",
       "10135         1   金額    10120000      1.1.2 パン           2   \n",
       "10136         1   金額    10120000      1.1.2 パン           2   \n",
       "10137         1   金額    10120000      1.1.2 パン           2   \n",
       "\n",
       "                                                世帯区分  area_code 地域区分  \\\n",
       "0                                    二人以上の世帯（2000年～）          0   全国   \n",
       "1                                    二人以上の世帯（2000年～）          0   全国   \n",
       "2                                    二人以上の世帯（2000年～）          0   全国   \n",
       "3                                    二人以上の世帯（2000年～）          0   全国   \n",
       "4                                    二人以上の世帯（2000年～）          0   全国   \n",
       "...                                              ...        ...  ...   \n",
       "10133  二人以上の世帯のうち勤労者世帯（農林漁家世帯を除く）（1985年～2007年,2017年）          0   全国   \n",
       "10134  二人以上の世帯のうち勤労者世帯（農林漁家世帯を除く）（1985年～2007年,2017年）          0   全国   \n",
       "10135  二人以上の世帯のうち勤労者世帯（農林漁家世帯を除く）（1985年～2007年,2017年）          0   全国   \n",
       "10136  二人以上の世帯のうち勤労者世帯（農林漁家世帯を除く）（1985年～2007年,2017年）          0   全国   \n",
       "10137  二人以上の世帯のうち勤労者世帯（農林漁家世帯を除く）（1985年～2007年,2017年）          0   全国   \n",
       "\n",
       "        time_code   時間軸（月次） unit value  \n",
       "0      2000000101   2000年1月    円  2127  \n",
       "1      2000000202   2000年2月    円  2329  \n",
       "2      2000000303   2000年3月    円  2492  \n",
       "3      2000000404   2000年4月    円  2441  \n",
       "4      2000000505   2000年5月    円  2458  \n",
       "...           ...       ...  ...   ...  \n",
       "10133  2017000808   2017年8月    円  2549  \n",
       "10134  2017000909   2017年9月    円  2537  \n",
       "10135  2017001010  2017年10月    円  2668  \n",
       "10136  2017001111  2017年11月    円  2670  \n",
       "10137  2017001212  2017年12月    円  2807  \n",
       "\n",
       "[10138 rows x 12 columns]"
      ]
     },
     "execution_count": 10,
     "metadata": {},
     "output_type": "execute_result"
    }
   ],
   "source": [
    "df"
   ]
  }
 ],
 "metadata": {
  "kernelspec": {
   "display_name": "Python 3",
   "language": "python",
   "name": "python3"
  },
  "language_info": {
   "codemirror_mode": {
    "name": "ipython",
    "version": 3
   },
   "file_extension": ".py",
   "mimetype": "text/x-python",
   "name": "python",
   "nbconvert_exporter": "python",
   "pygments_lexer": "ipython3",
   "version": "3.8.5"
  }
 },
 "nbformat": 4,
 "nbformat_minor": 4
}
