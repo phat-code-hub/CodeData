{
 "cells": [
  {
   "cell_type": "code",
   "execution_count": 1,
   "metadata": {},
   "outputs": [
    {
     "name": "stdout",
     "output_type": "stream",
     "text": [
      "Product ABC\n",
      "4600\n"
     ]
    }
   ],
   "source": [
    "print(\"Product ABC\")\n",
    "print(4600)"
   ]
  },
  {
   "cell_type": "code",
   "execution_count": 2,
   "metadata": {},
   "outputs": [
    {
     "name": "stdout",
     "output_type": "stream",
     "text": [
      "Product ABC\n",
      "4600\n"
     ]
    }
   ],
   "source": [
    "product_name = \"Product ABC\"\n",
    "price = 4600\n",
    "print(product_name)\n",
    "print(price)"
   ]
  },
  {
   "cell_type": "code",
   "execution_count": 3,
   "metadata": {},
   "outputs": [
    {
     "name": "stdout",
     "output_type": "stream",
     "text": [
      "Product ABC 4600\n"
     ]
    }
   ],
   "source": [
    "product_name = \"Product ABC\"\n",
    "price = 4600\n",
    "print(product_name, price)"
   ]
  },
  {
   "cell_type": "code",
   "execution_count": 4,
   "metadata": {},
   "outputs": [
    {
     "name": "stdout",
     "output_type": "stream",
     "text": [
      "Product ABC 4600\n",
      "Product XYZ 5200\n"
     ]
    }
   ],
   "source": [
    "print(\"Product ABC\", 4600)\n",
    "print(\"Product XYZ\", 5200)"
   ]
  },
  {
   "cell_type": "code",
   "execution_count": 5,
   "metadata": {},
   "outputs": [
    {
     "name": "stdout",
     "output_type": "stream",
     "text": [
      "Product ABC 4600\n",
      "\n",
      "Product XYZ 5200\n"
     ]
    }
   ],
   "source": [
    "print(\"Product ABC\", 4600, end = \"\\n\\n\")\n",
    "print(\"Product XYZ\", 5200)"
   ]
  }
 ],
 "metadata": {
  "kernelspec": {
   "display_name": "Python 3",
   "language": "python",
   "name": "python3"
  },
  "language_info": {
   "codemirror_mode": {
    "name": "ipython",
    "version": 3
   },
   "file_extension": ".py",
   "mimetype": "text/x-python",
   "name": "python",
   "nbconvert_exporter": "python",
   "pygments_lexer": "ipython3",
   "version": "3.8.5"
  }
 },
 "nbformat": 4,
 "nbformat_minor": 4
}
