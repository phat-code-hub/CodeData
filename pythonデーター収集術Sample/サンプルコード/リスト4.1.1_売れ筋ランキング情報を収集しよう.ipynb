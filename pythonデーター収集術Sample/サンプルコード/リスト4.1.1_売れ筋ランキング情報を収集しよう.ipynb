{
 "cells": [
  {
   "cell_type": "code",
   "execution_count": 1,
   "metadata": {},
   "outputs": [],
   "source": [
    "import requests\n",
    "from bs4 import BeautifulSoup\n",
    "import datetime\n",
    "import csv\n",
    "from urllib.parse import urljoin\n",
    "from time import sleep"
   ]
  },
  {
   "cell_type": "markdown",
   "metadata": {},
   "source": [
    "### 一覧ページからのデータ取得"
   ]
  },
  {
   "cell_type": "code",
   "execution_count": 2,
   "metadata": {},
   "outputs": [],
   "source": [
    "url = \"https://python-data-collection.herokuapp.com/ranking\"\n",
    "item_list = []\n",
    "\n",
    "for i in range(9):\n",
    "# while True:\n",
    "    response = requests.get(url)\n",
    "    soup = BeautifulSoup(response.text, \"html.parser\")\n",
    "    \n",
    "    for elem in soup.find_all(\"div\", class_=\"col border\"):\n",
    "#     for elem in soup.select(\"div.col.border\"):\n",
    "        \n",
    "        item_ranking = int(elem.find(\"span\", class_=\"badge bg-secondary\").text.replace(\"#\",\"\"))\n",
    "#         item_ranking = int(elem.select(\"span.badge.bg-secondary\")[0].text.replace(\"#\",\"\"))\n",
    "        item_name = elem.find(\"h5\").text\n",
    "        item_url = urljoin(url, elem.a[\"href\"])\n",
    "#         item_rating = float(elem.find(\"p\", class_=\"card-text\")[\"class\"][1].replace(\"star-rating-\",\"\"))\n",
    "        item_rating = float(elem.select(\"p.card-text\")[0][\"class\"][1].replace(\"star-rating-\",\"\"))        \n",
    "        item_no_of_ratings = int(elem.find(\"p\", class_=\"card-text\").span.text.replace(\",\",\"\"))\n",
    "        item_price = int(elem.find(\"span\", class_=\"text-danger\").text.replace(\",\",\"\")[1:])        \n",
    "        item_list.append([item_ranking, item_name, item_url, item_rating, item_no_of_ratings, item_price])\n",
    "        \n",
    "    if soup.select(\"a:contains('Next')\"):\n",
    "        url = urljoin(url, soup.select(\"a:contains('Next')\")[0][\"href\"])\n",
    "        sleep(1)\n",
    "    else:\n",
    "        break"
   ]
  },
  {
   "cell_type": "markdown",
   "metadata": {},
   "source": [
    "### 参考： 取得したデータの表示"
   ]
  },
  {
   "cell_type": "code",
   "execution_count": 3,
   "metadata": {},
   "outputs": [
    {
     "name": "stdout",
     "output_type": "stream",
     "text": [
      "[1, 'ノートパソコンA1(Core i5/メモリ16G SSD-512G)', 'https://python-data-collection.herokuapp.com/book/item1', 5.0, 1241, 68500]\n",
      "[2, 'ノートパソコンB(CeleronN4020/メモリ8G SSD-512G)', 'https://python-data-collection.herokuapp.com/book/item2', 4.5, 892, 74300]\n",
      "[3, 'ノートパソコンC(AMD Ryzen 5/メモリ16G SSD-256G)', 'https://python-data-collection.herokuapp.com/book/item3', 4.0, 702, 81300]\n",
      "[4, 'ノートパソコンD(AMD Ryzen 7/メモリ4G SSD-512G)', 'https://python-data-collection.herokuapp.com/book/item4', 5.0, 692, 92400]\n",
      "[5, 'ノートパソコンE(Core i3/メモリ8G SSD-256G)', 'https://python-data-collection.herokuapp.com/book/item5', 4.5, 840, 49700]\n",
      "[6, 'ノートパソコンF(Core i7/メモリ8G SSD-256G)', 'https://python-data-collection.herokuapp.com/book/item6', 5.0, 647, 56200]\n",
      "[7, 'ノートパソコンG(CeleronN4020/メモリ4G SSD-512G)', 'https://python-data-collection.herokuapp.com/book/item7', 5.0, 772, 71900]\n",
      "[8, 'ノートパソコンH(Core i5/メモリ8G SSD-256G)', 'https://python-data-collection.herokuapp.com/book/item8', 4.5, 786, 47400]\n",
      "[9, 'ノートパソコンI(Core i3/メモリ8G SSD-512G)', 'https://python-data-collection.herokuapp.com/book/item9', 4.0, 664, 53800]\n",
      "[10, 'ノートパソコンJ(Core i7/メモリ4G SSD-1T)', 'https://python-data-collection.herokuapp.com/book/item10', 4.5, 631, 102400]\n",
      "[11, 'ノートパソコンK(AMD Ryzen 5/メモリ4G SSD-512G)', 'https://python-data-collection.herokuapp.com/book/item11', 4.5, 562, 121000]\n",
      "[12, 'ノートパソコンL(Core i7/メモリ16G SSD-1T)', 'https://python-data-collection.herokuapp.com/book/item12', 4.0, 558, 68400]\n",
      "[13, 'ノートパソコンM(CeleronN4020/メモリ16G SSD-256G)', 'https://python-data-collection.herokuapp.com/book/item13', 4.5, 431, 52300]\n",
      "[14, 'ノートパソコンN(AMD Ryzen 7/メモリ4G SSD-256G)', 'https://python-data-collection.herokuapp.com/book/item14', 4.0, 378, 79980]\n",
      "[15, 'ノートパソコンO(Core i5/メモリ8G SSD-512G)', 'https://python-data-collection.herokuapp.com/book/item15', 4.5, 512, 39790]\n",
      "[16, 'ノートパソコンP(CeleronN4020/メモリ4G SSD-512G)', 'https://python-data-collection.herokuapp.com/book/item16', 4.0, 495, 169800]\n",
      "[17, 'ノートパソコンQ(AMD Ryzen 5/メモリ8G SSD-1T)', 'https://python-data-collection.herokuapp.com/book/item17', 4.5, 317, 91000]\n",
      "[18, 'ノートパソコンR(Core i5/メモリ4G SSD-512G)', 'https://python-data-collection.herokuapp.com/book/item18', 4.0, 365, 47900]\n",
      "[19, 'ノートパソコンS(CeleronN4020/メモリ8G SSD-512G)', 'https://python-data-collection.herokuapp.com/book/item19', 4.0, 383, 64300]\n",
      "[20, 'ノートパソコンT(Core i7/メモリ16G SSD-256G)', 'https://python-data-collection.herokuapp.com/book/item20', 4.0, 312, 49500]\n",
      "[21, 'ノートパソコンU(AMD Ryzen 5/メモリ4G SSD-256G)', 'https://python-data-collection.herokuapp.com/book/item21', 4.5, 265, 112500]\n",
      "[22, 'ノートパソコンV(Core i3/メモリ8G SSD-512G)', 'https://python-data-collection.herokuapp.com/book/item22', 3.5, 120, 76300]\n",
      "[23, 'ノートパソコンW(CeleronN4020/メモリ8G SSD-512G)', 'https://python-data-collection.herokuapp.com/book/item23', 3.0, 78, 110200]\n",
      "[24, 'ノートパソコンX(AMD Ryzen 7/メモリ4G SSD-256G)', 'https://python-data-collection.herokuapp.com/book/item24', 3.5, 32, 98200]\n",
      "[25, 'ノートパソコンY(Core i3/メモリ8G SSD-256G)', 'https://python-data-collection.herokuapp.com/book/item25', 3.0, 94, 54500]\n",
      "[26, 'ノートパソコンZ(CeleronN4020/メモリ4G SSD-512G)', 'https://python-data-collection.herokuapp.com/book/item26', 2.5, 23, 68700]\n",
      "[27, 'ノートパソコンα(Core i5/メモリ16G SSD-256G)', 'https://python-data-collection.herokuapp.com/book/item27', 2.5, 19, 43200]\n",
      "[28, 'ノートパソコンβ(AMD Ryzen 5/メモリ4G SSD-512G)', 'https://python-data-collection.herokuapp.com/book/item28', 3.0, 16, 82900]\n",
      "[29, 'ノートパソコンγ(Core i3/メモリ8G SSD-512G)', 'https://python-data-collection.herokuapp.com/book/item29', 2.0, 12, 64000]\n",
      "[30, 'ノートパソコンΘ(CeleronN4020/メモリ8G SSD-256G)', 'https://python-data-collection.herokuapp.com/book/item30', 2.5, 8, 58000]\n"
     ]
    }
   ],
   "source": [
    "for item in item_list:\n",
    "    print(item)"
   ]
  },
  {
   "cell_type": "markdown",
   "metadata": {},
   "source": [
    "### 一覧ページから取得したデータの保存"
   ]
  },
  {
   "cell_type": "code",
   "execution_count": 4,
   "metadata": {},
   "outputs": [],
   "source": [
    "csv_header = [\"ランキング\",\"商品名\",\"URL\",\"評価\",\"評価数\",\"価格\"]\n",
    "csv_date = datetime.datetime.today().strftime(\"%Y%m%d%H\")\n",
    "csv_file_name = \"notebook_\" + csv_date + \".csv\"\n",
    "with open(csv_file_name,\"w\", errors = \"ignore\") as file:\n",
    "    writer = csv.writer(file,lineterminator=\"\\n\")\n",
    "    writer.writerow(csv_header)\n",
    "    writer.writerows(item_list)"
   ]
  },
  {
   "cell_type": "markdown",
   "metadata": {},
   "source": [
    "### 詳細ページからのデータ取得"
   ]
  },
  {
   "cell_type": "code",
   "execution_count": 5,
   "metadata": {},
   "outputs": [],
   "source": [
    "url = \"https://python-data-collection.herokuapp.com/ranking\"\n",
    "item_list = []\n",
    "\n",
    "for i in range(9):\n",
    "# while True:\n",
    "    response = requests.get(url)\n",
    "    soup = BeautifulSoup(response.text, \"html.parser\")\n",
    "    \n",
    "    for elem in soup.find_all(\"div\", class_=\"col border\"):\n",
    "        item_ranking = int(elem.find(\"span\", class_=\"badge bg-secondary\").text.replace(\"#\",\"\"))\n",
    "        item_url = urljoin(url, elem.a[\"href\"])\n",
    "        response = requests.get(item_url)\n",
    "        soup_detail = BeautifulSoup(response.text, \"html.parser\")\n",
    "        \n",
    "        item_name = soup_detail.find(\"p\", class_=\"card-text\").text\n",
    "        item_os = soup_detail.select(\"ul.list-group.list-group-flush > li:nth-of-type(1)\")[0].text.split(\"/\")[0].strip()\n",
    "        item_maker = soup_detail.select(\"ul.list-group.list-group-flush > li:nth-of-type(1)\")[0].text.split(\"/\")[1].strip()\n",
    "        item_size = float(soup_detail.select(\"ul.list-group.list-group-flush > li:nth-of-type(2)\")[0].text.split(\"/\")[0].strip().replace(\"型(インチ)\",\"\"))\n",
    "        item_weight = float(soup_detail.select(\"ul.list-group.list-group-flush > li:nth-of-type(2)\")[0].text.split(\"/\")[1].strip().replace(\"kg\",\"\"))\n",
    "        item_rating = float(soup_detail.select(\"ul.list-group.list-group-flush > li:nth-of-type(3)\")[0].text.split(\"/\")[0])\n",
    "        item_no_of_ratings = int(soup_detail.select(\"ul.list-group.list-group-flush > li:nth-of-type(3)\")[0].text.split(\"/\")[1].replace(\",\",\"\").replace(\"個の評価\",\"\"))\n",
    "        item_price = int(soup_detail.select(\"ul.list-group.list-group-flush > li:nth-of-type(4)\")[0].text.replace(\",\",\"\")[1:])\n",
    "        item_list.append([item_ranking, item_name, item_url, item_os, item_maker, item_size, item_weight, item_rating, item_no_of_ratings, item_price])\n",
    "        sleep(1)\n",
    "        \n",
    "    if soup.select(\"a:contains('Next')\"):\n",
    "        url = urljoin(url, soup.select(\"a:contains('Next')\")[0][\"href\"])\n",
    "    else:\n",
    "        break"
   ]
  },
  {
   "cell_type": "markdown",
   "metadata": {},
   "source": [
    "### 参考： 取得したデータの表示"
   ]
  },
  {
   "cell_type": "code",
   "execution_count": 6,
   "metadata": {},
   "outputs": [
    {
     "name": "stdout",
     "output_type": "stream",
     "text": [
      "[1, 'ノートパソコンA1(Core i5/メモリ16G SSD-512G)', 'https://python-data-collection.herokuapp.com/book/item1', 'Windows 10 Home 64bit', 'メーカー1', 14.0, 1.442, 5.0, 1241, 68500]\n",
      "[2, 'ノートパソコンB(CeleronN4020/メモリ8G SSD-512G)', 'https://python-data-collection.herokuapp.com/book/item2', 'Windows 10 Home 64bit', 'メーカー1', 12.4, 1.11, 4.5, 892, 74300]\n",
      "[3, 'ノートパソコンC(AMD Ryzen 5/メモリ16G SSD-256G)', 'https://python-data-collection.herokuapp.com/book/item3', 'Windows 10 Home 64bit', 'メーカー1', 15.6, 1.635, 4.0, 702, 81300]\n",
      "[4, 'ノートパソコンD(AMD Ryzen 7/メモリ4G SSD-512G)', 'https://python-data-collection.herokuapp.com/book/item4', 'Windows 10 Home 64bit', 'メーカー1', 15.6, 1.78, 5.0, 692, 92400]\n",
      "[5, 'ノートパソコンE(Core i3/メモリ8G SSD-256G)', 'https://python-data-collection.herokuapp.com/book/item5', 'Windows 10 Home 64bit', 'メーカー1', 15.6, 1.7, 4.5, 840, 49700]\n",
      "[6, 'ノートパソコンF(Core i7/メモリ8G SSD-256G)', 'https://python-data-collection.herokuapp.com/book/item6', 'Windows 10 Home 64bit', 'メーカー1', 15.6, 2.0, 5.0, 647, 56200]\n",
      "[7, 'ノートパソコンG(CeleronN4020/メモリ4G SSD-512G)', 'https://python-data-collection.herokuapp.com/book/item7', 'Windows 10 Home 64bit', 'メーカー1', 13.3, 1.2, 5.0, 772, 71900]\n",
      "[8, 'ノートパソコンH(Core i5/メモリ8G SSD-256G)', 'https://python-data-collection.herokuapp.com/book/item8', 'Windows 10 Home 64bit', 'メーカー1', 14.0, 1.442, 4.5, 786, 47400]\n",
      "[9, 'ノートパソコンI(Core i3/メモリ8G SSD-512G)', 'https://python-data-collection.herokuapp.com/book/item9', 'Windows 10 Home 64bit', 'メーカー1', 14.0, 1.4, 4.0, 664, 53800]\n",
      "[10, 'ノートパソコンJ(Core i7/メモリ4G SSD-1T)', 'https://python-data-collection.herokuapp.com/book/item10', 'Windows 10 Home 64bit', 'メーカー1', 17.3, 2.7, 4.5, 631, 102400]\n",
      "[11, 'ノートパソコンK(AMD Ryzen 5/メモリ4G SSD-512G)', 'https://python-data-collection.herokuapp.com/book/item11', 'Windows 10 Home 64bit', 'メーカー1', 15.6, 1.7, 4.5, 562, 121000]\n",
      "[12, 'ノートパソコンL(Core i7/メモリ16G SSD-1T)', 'https://python-data-collection.herokuapp.com/book/item12', 'Windows 10 Home 64bit', 'メーカー1', 14.0, 1.5, 4.0, 558, 68400]\n",
      "[13, 'ノートパソコンM(CeleronN4020/メモリ16G SSD-256G)', 'https://python-data-collection.herokuapp.com/book/item13', 'Windows 10 Home 64bit', 'メーカー1', 14.0, 1.442, 4.5, 431, 52300]\n",
      "[14, 'ノートパソコンN(AMD Ryzen 7/メモリ4G SSD-256G)', 'https://python-data-collection.herokuapp.com/book/item14', 'Windows 10 Home 64bit', 'メーカー1', 14.0, 1.5, 4.0, 378, 79980]\n",
      "[15, 'ノートパソコンO(Core i5/メモリ8G SSD-512G)', 'https://python-data-collection.herokuapp.com/book/item15', 'Windows 10 Home 64bit', 'メーカー1', 15.6, 2.2, 4.5, 512, 39790]\n",
      "[16, 'ノートパソコンP(CeleronN4020/メモリ4G SSD-512G)', 'https://python-data-collection.herokuapp.com/book/item16', 'Windows 10 Home 64bit', 'メーカー1', 14.0, 1.35, 4.0, 495, 169800]\n",
      "[17, 'ノートパソコンQ(AMD Ryzen 5/メモリ8G SSD-1T)', 'https://python-data-collection.herokuapp.com/book/item17', 'Windows 10 Home 64bit', 'メーカー1', 15.6, 1.84, 4.5, 317, 91000]\n",
      "[18, 'ノートパソコンR(Core i5/メモリ4G SSD-512G)', 'https://python-data-collection.herokuapp.com/book/item18', 'Windows 10 Home 64bit', 'メーカー1', 15.6, 1.75, 4.0, 365, 47900]\n",
      "[19, 'ノートパソコンS(CeleronN4020/メモリ8G SSD-512G)', 'https://python-data-collection.herokuapp.com/book/item19', 'Windows 10 Home 64bit', 'メーカー1', 14.0, 1.442, 4.0, 383, 64300]\n",
      "[20, 'ノートパソコンT(Core i7/メモリ16G SSD-256G)', 'https://python-data-collection.herokuapp.com/book/item20', 'Windows 10 Home 64bit', 'メーカー1', 15.6, 1.73, 4.0, 312, 49500]\n",
      "[21, 'ノートパソコンU(AMD Ryzen 5/メモリ4G SSD-256G)', 'https://python-data-collection.herokuapp.com/book/item21', 'Windows 10 Home 64bit', 'メーカー1', 14.0, 1.442, 4.5, 265, 112500]\n",
      "[22, 'ノートパソコンV(Core i3/メモリ8G SSD-512G)', 'https://python-data-collection.herokuapp.com/book/item22', 'Windows 10 Home 64bit', 'メーカー1', 15.6, 1.8, 3.5, 120, 76300]\n",
      "[23, 'ノートパソコンW(CeleronN4020/メモリ8G SSD-512G)', 'https://python-data-collection.herokuapp.com/book/item23', 'Windows 10 Home 64bit', 'メーカー1', 13.3, 1.21, 3.0, 78, 110200]\n",
      "[24, 'ノートパソコンX(AMD Ryzen 7/メモリ4G SSD-256G)', 'https://python-data-collection.herokuapp.com/book/item24', 'Windows 10 Home 64bit', 'メーカー1', 14.0, 1.442, 3.5, 32, 98200]\n",
      "[25, 'ノートパソコンY(Core i3/メモリ8G SSD-256G)', 'https://python-data-collection.herokuapp.com/book/item25', 'Windows 10 Home 64bit', 'メーカー1', 15.6, 1.9, 3.0, 94, 54500]\n",
      "[26, 'ノートパソコンZ(CeleronN4020/メモリ4G SSD-512G)', 'https://python-data-collection.herokuapp.com/book/item26', 'Windows 10 Home 64bit', 'メーカー1', 13.3, 1.19, 2.5, 23, 68700]\n",
      "[27, 'ノートパソコンα(Core i5/メモリ16G SSD-256G)', 'https://python-data-collection.herokuapp.com/book/item27', 'Windows 10 Home 64bit', 'メーカー1', 15.6, 1.69, 2.5, 19, 43200]\n",
      "[28, 'ノートパソコンβ(AMD Ryzen 5/メモリ4G SSD-512G)', 'https://python-data-collection.herokuapp.com/book/item28', 'Windows 10 Home 64bit', 'メーカー1', 14.0, 1.442, 3.0, 16, 82900]\n",
      "[29, 'ノートパソコンγ(Core i3/メモリ8G SSD-512G)', 'https://python-data-collection.herokuapp.com/book/item29', 'Windows 10 Home 64bit', 'メーカー1', 13.3, 1.115, 2.0, 12, 64000]\n",
      "[30, 'ノートパソコンΘ(CeleronN4020/メモリ8G SSD-256G)', 'https://python-data-collection.herokuapp.com/book/item30', 'Windows 10 Home 64bit', 'メーカー1', 15.6, 1.78, 2.5, 8, 58000]\n"
     ]
    }
   ],
   "source": [
    "for item in item_list:\n",
    "    print(item)"
   ]
  },
  {
   "cell_type": "markdown",
   "metadata": {},
   "source": [
    "### 詳細ページから取得したデータの保存"
   ]
  },
  {
   "cell_type": "code",
   "execution_count": 7,
   "metadata": {},
   "outputs": [],
   "source": [
    "csv_header = [\"ランキング\",\"商品名\",\"URL\",\"OS\",\"メーカー\",\"サイズ(インチ)\",\"重量(kg)\",\"評価\",\"評価数\",\"価格\"]\n",
    "csv_date = datetime.datetime.today().strftime(\"%Y%m%d%H\")\n",
    "csv_file_name = \"notebook_detail_\" + csv_date + \".csv\"\n",
    "with open(csv_file_name,\"w\", errors = \"ignore\") as file:\n",
    "    writer = csv.writer(file,lineterminator=\"\\n\")\n",
    "    writer.writerow(csv_header)\n",
    "    writer.writerows(item_list)"
   ]
  }
 ],
 "metadata": {
  "kernelspec": {
   "display_name": "Python 3",
   "language": "python",
   "name": "python3"
  },
  "language_info": {
   "codemirror_mode": {
    "name": "ipython",
    "version": 3
   },
   "file_extension": ".py",
   "mimetype": "text/x-python",
   "name": "python",
   "nbconvert_exporter": "python",
   "pygments_lexer": "ipython3",
   "version": "3.8.5"
  }
 },
 "nbformat": 4,
 "nbformat_minor": 4
}
