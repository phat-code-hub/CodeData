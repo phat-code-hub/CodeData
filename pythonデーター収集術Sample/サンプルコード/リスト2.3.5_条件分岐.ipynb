{
 "cells": [
  {
   "cell_type": "code",
   "execution_count": 1,
   "metadata": {},
   "outputs": [
    {
     "name": "stdout",
     "output_type": "stream",
     "text": [
      "salesは100以上です。\n",
      "if文の処理ではありません。\n"
     ]
    }
   ],
   "source": [
    "sales = 120\n",
    "if sales >= 100:\n",
    "    print(\"salesは100以上です。\")\n",
    "print(\"if文の処理ではありません。\")"
   ]
  },
  {
   "cell_type": "code",
   "execution_count": 2,
   "metadata": {},
   "outputs": [
    {
     "name": "stdout",
     "output_type": "stream",
     "text": [
      "if文の処理ではありません。\n"
     ]
    }
   ],
   "source": [
    "sales = 80\n",
    "if sales >= 100:\n",
    "    print(\"salesは100以上です。\")\n",
    "print(\"if文の処理ではありません。\")"
   ]
  },
  {
   "cell_type": "code",
   "execution_count": 3,
   "metadata": {},
   "outputs": [
    {
     "name": "stdout",
     "output_type": "stream",
     "text": [
      "salesは100未満、50以上です。\n"
     ]
    }
   ],
   "source": [
    "sales = 80\n",
    "if sales >= 100:\n",
    "    print(\"salesは100以上です。\")\n",
    "elif sales >= 50:\n",
    "    print(\"salesは100未満、50以上です。\")\n",
    "elif sales >= 20:\n",
    "    print(\"salesは50未満、20以上です。\")\n",
    "else:\n",
    "    print(\"salesは20未満です。\")"
   ]
  },
  {
   "cell_type": "code",
   "execution_count": 4,
   "metadata": {},
   "outputs": [
    {
     "name": "stdout",
     "output_type": "stream",
     "text": [
      "salesは20未満です。\n"
     ]
    }
   ],
   "source": [
    "sales = 10\n",
    "if sales >= 100:\n",
    "    print(\"salesは100以上です。\")\n",
    "elif sales >= 50:\n",
    "    print(\"salesは100未満、50以上です。\")\n",
    "elif sales >= 20:\n",
    "    print(\"salesは50未満、20以上です。\")\n",
    "else:\n",
    "    print(\"salesは20未満です。\")"
   ]
  },
  {
   "cell_type": "code",
   "execution_count": 5,
   "metadata": {},
   "outputs": [
    {
     "name": "stdout",
     "output_type": "stream",
     "text": [
      "salesは100以上、500未満です。\n"
     ]
    }
   ],
   "source": [
    "sales = 120\n",
    "if sales >= 100 and sales < 500:\n",
    "    print(\"salesは100以上、500未満です。\")\n",
    "else:\n",
    "    print(\"salesは100未満、もしくは、500以上です。\")"
   ]
  },
  {
   "cell_type": "code",
   "execution_count": 6,
   "metadata": {},
   "outputs": [
    {
     "name": "stdout",
     "output_type": "stream",
     "text": [
      "salesは100未満、もしくは、500以上です。\n"
     ]
    }
   ],
   "source": [
    "sales = 90\n",
    "if sales >= 100 and sales < 500:\n",
    "    print(\"salesは100以上、500未満です。\")\n",
    "else:\n",
    "    print(\"salesは100未満、もしくは、500以上です。\")"
   ]
  }
 ],
 "metadata": {
  "kernelspec": {
   "display_name": "Python 3",
   "language": "python",
   "name": "python3"
  },
  "language_info": {
   "codemirror_mode": {
    "name": "ipython",
    "version": 3
   },
   "file_extension": ".py",
   "mimetype": "text/x-python",
   "name": "python",
   "nbconvert_exporter": "python",
   "pygments_lexer": "ipython3",
   "version": "3.8.5"
  }
 },
 "nbformat": 4,
 "nbformat_minor": 4
}
