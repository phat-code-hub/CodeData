{
 "cells": [
  {
   "cell_type": "code",
   "execution_count": 1,
   "metadata": {},
   "outputs": [],
   "source": [
    "import requests\n",
    "from bs4 import BeautifulSoup\n",
    "import datetime\n",
    "import csv\n",
    "from time import sleep"
   ]
  },
  {
   "cell_type": "markdown",
   "metadata": {},
   "source": [
    "### 一覧・詳細ページからのデータ取得"
   ]
  },
  {
   "cell_type": "code",
   "execution_count": 2,
   "metadata": {},
   "outputs": [],
   "source": [
    "url = \"https://books.toscrape.com/\"\n",
    "response = requests.get(url)\n",
    "soup = BeautifulSoup(response.text, \"html.parser\")\n",
    "items = soup.select(\"ol.row li\")\n",
    "item_list = []\n",
    "\n",
    "for item in items:    \n",
    "    item_name = item.select(\"h3 a\")[0].text\n",
    "    item_url = item.select(\"h3 a\")[0][\"href\"]\n",
    "    item_price = item.select(\"p.price_color\")[0].text\n",
    "    item_stock = item.select(\"p.instock.availability\")[0].text.strip()\n",
    "    detail_url = \"https://books.toscrape.com/\" + item_url\n",
    "    \n",
    "    response = requests.get(detail_url)\n",
    "    soup = BeautifulSoup(response.text, \"html.parser\")\n",
    "    item_code = soup.select(\"table td\")[0].text\n",
    "    \n",
    "    item_list.append([item_name, detail_url, item_price, item_stock, item_code])\n",
    "    sleep(1)"
   ]
  },
  {
   "cell_type": "markdown",
   "metadata": {},
   "source": [
    "### 参考： 取得したデータの表示"
   ]
  },
  {
   "cell_type": "code",
   "execution_count": 3,
   "metadata": {},
   "outputs": [
    {
     "name": "stdout",
     "output_type": "stream",
     "text": [
      "item:  ['A Light in the ...', 'https://books.toscrape.com/catalogue/a-light-in-the-attic_1000/index.html', 'Â£51.77', 'In stock', 'a897fe39b1053632']\n",
      "item:  ['Tipping the Velvet', 'https://books.toscrape.com/catalogue/tipping-the-velvet_999/index.html', 'Â£53.74', 'In stock', '90fa61229261140a']\n",
      "item:  ['Soumission', 'https://books.toscrape.com/catalogue/soumission_998/index.html', 'Â£50.10', 'In stock', '6957f44c3847a760']\n",
      "item:  ['Sharp Objects', 'https://books.toscrape.com/catalogue/sharp-objects_997/index.html', 'Â£47.82', 'In stock', 'e00eb4fd7b871a48']\n",
      "item:  ['Sapiens: A Brief History ...', 'https://books.toscrape.com/catalogue/sapiens-a-brief-history-of-humankind_996/index.html', 'Â£54.23', 'In stock', '4165285e1663650f']\n",
      "item:  ['The Requiem Red', 'https://books.toscrape.com/catalogue/the-requiem-red_995/index.html', 'Â£22.65', 'In stock', 'f77dbf2323deb740']\n",
      "item:  ['The Dirty Little Secrets ...', 'https://books.toscrape.com/catalogue/the-dirty-little-secrets-of-getting-your-dream-job_994/index.html', 'Â£33.34', 'In stock', '2597b5a345f45e1b']\n",
      "item:  ['The Coming Woman: A ...', 'https://books.toscrape.com/catalogue/the-coming-woman-a-novel-based-on-the-life-of-the-infamous-feminist-victoria-woodhull_993/index.html', 'Â£17.93', 'In stock', 'e72a5dfc7e9267b2']\n",
      "item:  ['The Boys in the ...', 'https://books.toscrape.com/catalogue/the-boys-in-the-boat-nine-americans-and-their-epic-quest-for-gold-at-the-1936-berlin-olympics_992/index.html', 'Â£22.60', 'In stock', 'e10e1e165dc8be4a']\n",
      "item:  ['The Black Maria', 'https://books.toscrape.com/catalogue/the-black-maria_991/index.html', 'Â£52.15', 'In stock', '1dfe412b8ac00530']\n",
      "item:  ['Starving Hearts (Triangular Trade ...', 'https://books.toscrape.com/catalogue/starving-hearts-triangular-trade-trilogy-1_990/index.html', 'Â£13.99', 'In stock', '0312262ecafa5a40']\n",
      "item:  [\"Shakespeare's Sonnets\", 'https://books.toscrape.com/catalogue/shakespeares-sonnets_989/index.html', 'Â£20.66', 'In stock', '30a7f60cd76ca58c']\n",
      "item:  ['Set Me Free', 'https://books.toscrape.com/catalogue/set-me-free_988/index.html', 'Â£17.46', 'In stock', 'ce6396b0f23f6ecc']\n",
      "item:  [\"Scott Pilgrim's Precious Little ...\", 'https://books.toscrape.com/catalogue/scott-pilgrims-precious-little-life-scott-pilgrim-1_987/index.html', 'Â£52.29', 'In stock', '3b1c02bac2a429e6']\n",
      "item:  ['Rip it Up and ...', 'https://books.toscrape.com/catalogue/rip-it-up-and-start-again_986/index.html', 'Â£35.02', 'In stock', 'a34ba96d4081e6a4']\n",
      "item:  ['Our Band Could Be ...', 'https://books.toscrape.com/catalogue/our-band-could-be-your-life-scenes-from-the-american-indie-underground-1981-1991_985/index.html', 'Â£57.25', 'In stock', 'deda3e61b9514b83']\n",
      "item:  ['Olio', 'https://books.toscrape.com/catalogue/olio_984/index.html', 'Â£23.88', 'In stock', 'feb7cc7701ecf901']\n",
      "item:  ['Mesaerion: The Best Science ...', 'https://books.toscrape.com/catalogue/mesaerion-the-best-science-fiction-stories-1800-1849_983/index.html', 'Â£37.59', 'In stock', 'e30f54cea9b38190']\n",
      "item:  ['Libertarianism for Beginners', 'https://books.toscrape.com/catalogue/libertarianism-for-beginners_982/index.html', 'Â£51.33', 'In stock', 'a18a4f574854aced']\n",
      "item:  [\"It's Only the Himalayas\", 'https://books.toscrape.com/catalogue/its-only-the-himalayas_981/index.html', 'Â£45.17', 'In stock', 'a22124811bfa8350']\n"
     ]
    }
   ],
   "source": [
    "for item in item_list:\n",
    "    print(\"item: \", item)"
   ]
  },
  {
   "cell_type": "markdown",
   "metadata": {},
   "source": [
    "### 一覧・詳細ページから取得したデータの保存"
   ]
  },
  {
   "cell_type": "code",
   "execution_count": 4,
   "metadata": {},
   "outputs": [],
   "source": [
    "csv_header = [\"書籍名\",\"URL\",\"価格\",\"在庫\",\"書籍コード\"]\n",
    "csv_date = datetime.datetime.today().strftime(\"%Y%m%d%H\")\n",
    "csv_file_name = \"item_data_\" + csv_date + \".csv\"\n",
    "with open(csv_file_name,\"w\", errors = \"ignore\") as file:\n",
    "    writer = csv.writer(file,lineterminator=\"\\n\")\n",
    "    writer.writerow(csv_header)\n",
    "    writer.writerows(item_list)"
   ]
  }
 ],
 "metadata": {
  "kernelspec": {
   "display_name": "Python 3",
   "language": "python",
   "name": "python3"
  },
  "language_info": {
   "codemirror_mode": {
    "name": "ipython",
    "version": 3
   },
   "file_extension": ".py",
   "mimetype": "text/x-python",
   "name": "python",
   "nbconvert_exporter": "python",
   "pygments_lexer": "ipython3",
   "version": "3.8.5"
  }
 },
 "nbformat": 4,
 "nbformat_minor": 4
}
